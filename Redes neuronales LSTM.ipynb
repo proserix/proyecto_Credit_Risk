{
 "cells": [
  {
   "cell_type": "code",
   "execution_count": 1,
   "id": "dfcf9b69",
   "metadata": {},
   "outputs": [],
   "source": [
    "import numpy as np\n",
    "import matplotlib.pyplot as plt\n",
    "import pandas as pd\n",
    "\n",
    "\n",
    "# style.use('bmh') or\n",
    "plt.style.use('bmh')\n",
    "%matplotlib inline\n",
    "\n",
    "%config IPCompleter.greedy=True \n"
   ]
  },
  {
   "cell_type": "code",
   "execution_count": 2,
   "id": "27a6849d",
   "metadata": {},
   "outputs": [
    {
     "data": {
      "text/html": [
       "<div>\n",
       "<style scoped>\n",
       "    .dataframe tbody tr th:only-of-type {\n",
       "        vertical-align: middle;\n",
       "    }\n",
       "\n",
       "    .dataframe tbody tr th {\n",
       "        vertical-align: top;\n",
       "    }\n",
       "\n",
       "    .dataframe thead th {\n",
       "        text-align: right;\n",
       "    }\n",
       "</style>\n",
       "<table border=\"1\" class=\"dataframe\">\n",
       "  <thead>\n",
       "    <tr style=\"text-align: right;\">\n",
       "      <th></th>\n",
       "      <th>Open</th>\n",
       "      <th>High</th>\n",
       "      <th>Low</th>\n",
       "    </tr>\n",
       "  </thead>\n",
       "  <tbody>\n",
       "    <tr>\n",
       "      <th>0</th>\n",
       "      <td>325.25</td>\n",
       "      <td>332.83</td>\n",
       "      <td>324.97</td>\n",
       "    </tr>\n",
       "    <tr>\n",
       "      <th>1</th>\n",
       "      <td>331.27</td>\n",
       "      <td>333.87</td>\n",
       "      <td>329.08</td>\n",
       "    </tr>\n",
       "    <tr>\n",
       "      <th>2</th>\n",
       "      <td>329.83</td>\n",
       "      <td>330.75</td>\n",
       "      <td>326.89</td>\n",
       "    </tr>\n",
       "    <tr>\n",
       "      <th>3</th>\n",
       "      <td>328.34</td>\n",
       "      <td>328.77</td>\n",
       "      <td>323.68</td>\n",
       "    </tr>\n",
       "    <tr>\n",
       "      <th>4</th>\n",
       "      <td>322.04</td>\n",
       "      <td>322.29</td>\n",
       "      <td>309.46</td>\n",
       "    </tr>\n",
       "  </tbody>\n",
       "</table>\n",
       "</div>"
      ],
      "text/plain": [
       "     Open    High     Low\n",
       "0  325.25  332.83  324.97\n",
       "1  331.27  333.87  329.08\n",
       "2  329.83  330.75  326.89\n",
       "3  328.34  328.77  323.68\n",
       "4  322.04  322.29  309.46"
      ]
     },
     "execution_count": 2,
     "metadata": {},
     "output_type": "execute_result"
    }
   ],
   "source": [
    "# Cargamos el conjunto de entrenamiento\n",
    "\n",
    "dataset_train = pd.read_csv('../Google_Stock_Price_Train.csv')\n",
    "\n",
    "#Identificamos las variables regresoras y formateamos a datos tipo numpy\n",
    "\n",
    "dataset_train.iloc[:, 1:4].head()"
   ]
  },
  {
   "cell_type": "code",
   "execution_count": 3,
   "id": "0eaf58b9",
   "metadata": {},
   "outputs": [
    {
     "name": "stdout",
     "output_type": "stream",
     "text": [
      "<class 'pandas.core.frame.DataFrame'>\n",
      "RangeIndex: 1258 entries, 0 to 1257\n",
      "Data columns (total 6 columns):\n",
      " #   Column  Non-Null Count  Dtype  \n",
      "---  ------  --------------  -----  \n",
      " 0   Date    1258 non-null   object \n",
      " 1   Open    1258 non-null   float64\n",
      " 2   High    1258 non-null   float64\n",
      " 3   Low     1258 non-null   float64\n",
      " 4   Close   1258 non-null   object \n",
      " 5   Volume  1258 non-null   object \n",
      "dtypes: float64(3), object(3)\n",
      "memory usage: 59.1+ KB\n"
     ]
    }
   ],
   "source": [
    "dataset_train.info()"
   ]
  },
  {
   "cell_type": "code",
   "execution_count": 4,
   "id": "acd43190",
   "metadata": {},
   "outputs": [
    {
     "data": {
      "text/plain": [
       "array([[325.25, 332.83, 324.97],\n",
       "       [331.27, 333.87, 329.08],\n",
       "       [329.83, 330.75, 326.89],\n",
       "       ...,\n",
       "       [793.7 , 794.23, 783.2 ],\n",
       "       [783.33, 785.93, 778.92],\n",
       "       [782.75, 782.78, 770.41]])"
      ]
     },
     "execution_count": 4,
     "metadata": {},
     "output_type": "execute_result"
    }
   ],
   "source": [
    "# Conjunto de entrenamiento IMPORTANTE QUE ESTE EN FORMATO NUMPY\n",
    "training_set=dataset_train.iloc[:, 1:4].values\n",
    "training_set"
   ]
  },
  {
   "cell_type": "code",
   "execution_count": 5,
   "id": "0e226adc",
   "metadata": {},
   "outputs": [],
   "source": [
    "# Escalamos las variables regresoras con MinMaxScaler\n",
    "\n",
    "from sklearn.preprocessing import MinMaxScaler\n",
    "sc = MinMaxScaler(feature_range = (0, 1))\n",
    "training_set_scaled = sc.fit_transform(training_set)"
   ]
  },
  {
   "cell_type": "code",
   "execution_count": 6,
   "id": "25fbac8b",
   "metadata": {},
   "outputs": [
    {
     "data": {
      "text/plain": [
       "array([[0.08581368, 0.09640129, 0.09044931],\n",
       "       [0.09701243, 0.09834351, 0.09823458],\n",
       "       [0.09433366, 0.09251685, 0.09408623],\n",
       "       ...,\n",
       "       [0.95725128, 0.95807422, 0.95844067],\n",
       "       [0.93796041, 0.94257381, 0.95033338],\n",
       "       [0.93688146, 0.93669113, 0.93421352]])"
      ]
     },
     "execution_count": 6,
     "metadata": {},
     "output_type": "execute_result"
    }
   ],
   "source": [
    "training_set_scaled"
   ]
  },
  {
   "cell_type": "code",
   "execution_count": 7,
   "id": "5fd0af5c",
   "metadata": {},
   "outputs": [],
   "source": [
    "# Conformamos los conjuntos de entrenamiento. La red neuronal, tomara para cada registro a estimar, los 60 anteriores en cada\n",
    "# variable regresora. En este  caso son 2 variables regresoras (valor de apertura y maximo tomado por las acciones)\n",
    "\n",
    "X_train = []\n",
    "y_train = []\n",
    "for i in range(60, 1258):\n",
    "    X_train.append(training_set_scaled[i-60:i, 0:3])# Valores de las variables regresoras. Se toman periodos de 60 dias\n",
    "                                                    # anteriores al dia de la prediccion\n",
    "    y_train.append(training_set_scaled[i, 0])       # Dia de la prediccion\n",
    "    \n",
    "X_train, y_train = np.array(X_train), np.array(y_train) # Formateo de los valores"
   ]
  },
  {
   "cell_type": "code",
   "execution_count": 8,
   "id": "4e02585a",
   "metadata": {},
   "outputs": [],
   "source": [
    "# Redimension de la variable X_train a formato soportado por Keras. ([batch, timesteps, feature])\n",
    "# Batch = X_train[0]\n",
    "# timesteps = X_train[1]\n",
    "# feature = Cantidad de variables regresoras\n",
    "\n",
    "X_train = np.reshape(X_train, (X_train.shape[0], X_train.shape[1], 3))"
   ]
  },
  {
   "cell_type": "code",
   "execution_count": 9,
   "id": "aa8db9c9",
   "metadata": {},
   "outputs": [],
   "source": [
    "from keras.models import Sequential\n",
    "from keras.layers import Dense\n",
    "from keras.layers import LSTM\n",
    "from keras.layers import Dropout"
   ]
  },
  {
   "cell_type": "code",
   "execution_count": 10,
   "id": "f61a2c12",
   "metadata": {},
   "outputs": [],
   "source": [
    "regressor = Sequential()"
   ]
  },
  {
   "cell_type": "code",
   "execution_count": 11,
   "id": "7cc4344e",
   "metadata": {},
   "outputs": [],
   "source": [
    "# Creamos la capa LSTM recordando poner en el input_shape el formato de tensor de keras [batch, timesteps, feature],\n",
    "# en este caso, no hace falta pasarle el batch puesto que ya lo asume\n",
    "\n",
    "regressor.add(LSTM(units = 50, return_sequences = True, input_shape = (X_train.shape[1], 3)))\n",
    "regressor.add(Dropout(0.2))"
   ]
  },
  {
   "cell_type": "code",
   "execution_count": 12,
   "id": "c035269e",
   "metadata": {},
   "outputs": [],
   "source": [
    "regressor.add(LSTM(units = 50, return_sequences = True))\n",
    "\n",
    "# Regularizacion por Dropout: desactivamos un 20% de neuronas\n",
    "regressor.add(Dropout(0.2))"
   ]
  },
  {
   "cell_type": "code",
   "execution_count": 13,
   "id": "d38ba5c7",
   "metadata": {},
   "outputs": [],
   "source": [
    "regressor.add(LSTM(units = 50, return_sequences = True))\n",
    "\n",
    "# Regularizacion por Dropout: desactivamos un 20% de neuronas\n",
    "regressor.add(Dropout(0.2))"
   ]
  },
  {
   "cell_type": "code",
   "execution_count": 14,
   "id": "55fbecc8",
   "metadata": {},
   "outputs": [],
   "source": [
    "regressor.add(LSTM(units = 50))\n",
    "\n",
    "# Regularizacion por Dropout: desactivamos un 20% de neuronas\n",
    "regressor.add(Dropout(0.2))"
   ]
  },
  {
   "cell_type": "code",
   "execution_count": 15,
   "id": "1f2068df",
   "metadata": {},
   "outputs": [],
   "source": [
    "# Capa de salida\n",
    "\n",
    "regressor.add(Dense(units = 1))"
   ]
  },
  {
   "cell_type": "code",
   "execution_count": 16,
   "id": "7e8de96c",
   "metadata": {},
   "outputs": [],
   "source": [
    "#Compilamos el modelo\n",
    "\n",
    "regressor.compile(optimizer = 'adam', loss = 'mean_squared_error')"
   ]
  },
  {
   "cell_type": "code",
   "execution_count": 17,
   "id": "bcfd9f09",
   "metadata": {},
   "outputs": [
    {
     "name": "stdout",
     "output_type": "stream",
     "text": [
      "Epoch 1/100\n",
      "38/38 [==============================] - 42s 370ms/step - loss: 0.0458\n",
      "Epoch 2/100\n",
      "38/38 [==============================] - 15s 385ms/step - loss: 0.0070\n",
      "Epoch 3/100\n",
      "38/38 [==============================] - 16s 412ms/step - loss: 0.0058\n",
      "Epoch 4/100\n",
      "38/38 [==============================] - 15s 399ms/step - loss: 0.0059\n",
      "Epoch 5/100\n",
      "38/38 [==============================] - 14s 366ms/step - loss: 0.0055\n",
      "Epoch 6/100\n",
      "38/38 [==============================] - 14s 365ms/step - loss: 0.0047\n",
      "Epoch 7/100\n",
      "38/38 [==============================] - 14s 365ms/step - loss: 0.0049\n",
      "Epoch 8/100\n",
      "38/38 [==============================] - 14s 364ms/step - loss: 0.0043\n",
      "Epoch 9/100\n",
      "38/38 [==============================] - 14s 365ms/step - loss: 0.0044\n",
      "Epoch 10/100\n",
      "38/38 [==============================] - 14s 365ms/step - loss: 0.0052\n",
      "Epoch 11/100\n",
      "38/38 [==============================] - 14s 367ms/step - loss: 0.0049\n",
      "Epoch 12/100\n",
      "38/38 [==============================] - 14s 366ms/step - loss: 0.0043\n",
      "Epoch 13/100\n",
      "38/38 [==============================] - 14s 372ms/step - loss: 0.0039\n",
      "Epoch 14/100\n",
      "38/38 [==============================] - 14s 366ms/step - loss: 0.0039\n",
      "Epoch 15/100\n",
      "38/38 [==============================] - 14s 365ms/step - loss: 0.0043\n",
      "Epoch 16/100\n",
      "38/38 [==============================] - 14s 364ms/step - loss: 0.0036\n",
      "Epoch 17/100\n",
      "38/38 [==============================] - 14s 365ms/step - loss: 0.0038\n",
      "Epoch 18/100\n",
      "38/38 [==============================] - 14s 366ms/step - loss: 0.0037\n",
      "Epoch 19/100\n",
      "38/38 [==============================] - 14s 364ms/step - loss: 0.0037\n",
      "Epoch 20/100\n",
      "38/38 [==============================] - 14s 366ms/step - loss: 0.0036\n",
      "Epoch 21/100\n",
      "38/38 [==============================] - 14s 364ms/step - loss: 0.0032\n",
      "Epoch 22/100\n",
      "38/38 [==============================] - 14s 366ms/step - loss: 0.0037\n",
      "Epoch 23/100\n",
      "38/38 [==============================] - 14s 367ms/step - loss: 0.0034\n",
      "Epoch 24/100\n",
      "38/38 [==============================] - 14s 380ms/step - loss: 0.0033\n",
      "Epoch 25/100\n",
      "38/38 [==============================] - 14s 369ms/step - loss: 0.0032\n",
      "Epoch 26/100\n",
      "38/38 [==============================] - 14s 365ms/step - loss: 0.0033\n",
      "Epoch 27/100\n",
      "38/38 [==============================] - 14s 365ms/step - loss: 0.0039\n",
      "Epoch 28/100\n",
      "38/38 [==============================] - 14s 366ms/step - loss: 0.0035\n",
      "Epoch 29/100\n",
      "38/38 [==============================] - 14s 363ms/step - loss: 0.0032\n",
      "Epoch 30/100\n",
      "38/38 [==============================] - 14s 362ms/step - loss: 0.0031\n",
      "Epoch 31/100\n",
      "38/38 [==============================] - 16s 412ms/step - loss: 0.0028\n",
      "Epoch 32/100\n",
      "38/38 [==============================] - 16s 409ms/step - loss: 0.0031\n",
      "Epoch 33/100\n",
      "38/38 [==============================] - 15s 408ms/step - loss: 0.0028\n",
      "Epoch 34/100\n",
      "38/38 [==============================] - 16s 419ms/step - loss: 0.0027\n",
      "Epoch 35/100\n",
      "38/38 [==============================] - 15s 389ms/step - loss: 0.0032\n",
      "Epoch 36/100\n",
      "38/38 [==============================] - 15s 405ms/step - loss: 0.0029\n",
      "Epoch 37/100\n",
      "38/38 [==============================] - 15s 387ms/step - loss: 0.0036\n",
      "Epoch 38/100\n",
      "38/38 [==============================] - 15s 395ms/step - loss: 0.0027\n",
      "Epoch 39/100\n",
      "38/38 [==============================] - 17s 459ms/step - loss: 0.0028\n",
      "Epoch 40/100\n",
      "38/38 [==============================] - 18s 463ms/step - loss: 0.0030\n",
      "Epoch 41/100\n",
      "38/38 [==============================] - 17s 444ms/step - loss: 0.0026\n",
      "Epoch 42/100\n",
      "38/38 [==============================] - 16s 427ms/step - loss: 0.0025\n",
      "Epoch 43/100\n",
      "38/38 [==============================] - 18s 479ms/step - loss: 0.0026\n",
      "Epoch 44/100\n",
      "38/38 [==============================] - 16s 415ms/step - loss: 0.0024\n",
      "Epoch 45/100\n",
      "38/38 [==============================] - 16s 412ms/step - loss: 0.0024\n",
      "Epoch 46/100\n",
      "38/38 [==============================] - 15s 389ms/step - loss: 0.0022\n",
      "Epoch 47/100\n",
      "38/38 [==============================] - 15s 383ms/step - loss: 0.0025\n",
      "Epoch 48/100\n",
      "38/38 [==============================] - 15s 385ms/step - loss: 0.0023\n",
      "Epoch 49/100\n",
      "38/38 [==============================] - 15s 384ms/step - loss: 0.0025\n",
      "Epoch 50/100\n",
      "38/38 [==============================] - 15s 390ms/step - loss: 0.0023\n",
      "Epoch 51/100\n",
      "38/38 [==============================] - 15s 397ms/step - loss: 0.0020\n",
      "Epoch 52/100\n",
      "38/38 [==============================] - 15s 391ms/step - loss: 0.0021\n",
      "Epoch 53/100\n",
      "38/38 [==============================] - 16s 418ms/step - loss: 0.0021\n",
      "Epoch 54/100\n",
      "38/38 [==============================] - 15s 396ms/step - loss: 0.0023\n",
      "Epoch 55/100\n",
      "38/38 [==============================] - 15s 392ms/step - loss: 0.0021\n",
      "Epoch 56/100\n",
      "38/38 [==============================] - 15s 392ms/step - loss: 0.0020\n",
      "Epoch 57/100\n",
      "38/38 [==============================] - 15s 393ms/step - loss: 0.0021\n",
      "Epoch 58/100\n",
      "38/38 [==============================] - 15s 396ms/step - loss: 0.0019\n",
      "Epoch 59/100\n",
      "38/38 [==============================] - 15s 401ms/step - loss: 0.0025\n",
      "Epoch 60/100\n",
      "38/38 [==============================] - 15s 398ms/step - loss: 0.0020\n",
      "Epoch 61/100\n",
      "38/38 [==============================] - 15s 397ms/step - loss: 0.0018\n",
      "Epoch 62/100\n",
      "38/38 [==============================] - 15s 404ms/step - loss: 0.0021\n",
      "Epoch 63/100\n",
      "38/38 [==============================] - 16s 417ms/step - loss: 0.0018\n",
      "Epoch 64/100\n",
      "38/38 [==============================] - 15s 407ms/step - loss: 0.0019\n",
      "Epoch 65/100\n",
      "38/38 [==============================] - 15s 405ms/step - loss: 0.0018\n",
      "Epoch 66/100\n",
      "38/38 [==============================] - 15s 403ms/step - loss: 0.0017\n",
      "Epoch 67/100\n",
      "38/38 [==============================] - 15s 407ms/step - loss: 0.0016\n",
      "Epoch 68/100\n",
      "38/38 [==============================] - 16s 406ms/step - loss: 0.0018\n",
      "Epoch 69/100\n",
      "38/38 [==============================] - 18s 469ms/step - loss: 0.0017\n",
      "Epoch 70/100\n",
      "38/38 [==============================] - 16s 417ms/step - loss: 0.0019\n",
      "Epoch 71/100\n",
      "38/38 [==============================] - 16s 413ms/step - loss: 0.0017\n",
      "Epoch 72/100\n",
      "38/38 [==============================] - 16s 416ms/step - loss: 0.0018\n",
      "Epoch 73/100\n",
      "38/38 [==============================] - 16s 411ms/step - loss: 0.0017\n",
      "Epoch 74/100\n",
      "38/38 [==============================] - 17s 443ms/step - loss: 0.0016\n",
      "Epoch 75/100\n",
      "38/38 [==============================] - 16s 420ms/step - loss: 0.0016\n",
      "Epoch 76/100\n",
      "38/38 [==============================] - 16s 415ms/step - loss: 0.0017\n",
      "Epoch 77/100\n",
      "38/38 [==============================] - 16s 425ms/step - loss: 0.0015\n",
      "Epoch 78/100\n",
      "38/38 [==============================] - 16s 418ms/step - loss: 0.0019\n",
      "Epoch 79/100\n",
      "38/38 [==============================] - 16s 418ms/step - loss: 0.0017\n",
      "Epoch 80/100\n",
      "38/38 [==============================] - 17s 446ms/step - loss: 0.0017\n",
      "Epoch 81/100\n",
      "38/38 [==============================] - 16s 424ms/step - loss: 0.0014\n",
      "Epoch 82/100\n",
      "38/38 [==============================] - 18s 477ms/step - loss: 0.0017\n",
      "Epoch 83/100\n",
      "38/38 [==============================] - 16s 426ms/step - loss: 0.0016\n",
      "Epoch 84/100\n",
      "38/38 [==============================] - 18s 462ms/step - loss: 0.0015\n",
      "Epoch 85/100\n",
      "38/38 [==============================] - 16s 432ms/step - loss: 0.0014\n",
      "Epoch 86/100\n",
      "38/38 [==============================] - 17s 435ms/step - loss: 0.0016\n",
      "Epoch 87/100\n",
      "38/38 [==============================] - 17s 438ms/step - loss: 0.0016\n",
      "Epoch 88/100\n",
      "38/38 [==============================] - 16s 430ms/step - loss: 0.0014\n",
      "Epoch 89/100\n",
      "38/38 [==============================] - 17s 448ms/step - loss: 0.0014\n",
      "Epoch 90/100\n",
      "38/38 [==============================] - 17s 435ms/step - loss: 0.0014\n",
      "Epoch 91/100\n",
      "38/38 [==============================] - 17s 444ms/step - loss: 0.0015\n",
      "Epoch 92/100\n",
      "38/38 [==============================] - 17s 440ms/step - loss: 0.0013\n",
      "Epoch 93/100\n",
      "38/38 [==============================] - 17s 444ms/step - loss: 0.0016\n",
      "Epoch 94/100\n",
      "38/38 [==============================] - 17s 444ms/step - loss: 0.0014\n",
      "Epoch 95/100\n",
      "38/38 [==============================] - 17s 443ms/step - loss: 0.0014\n",
      "Epoch 96/100\n",
      "38/38 [==============================] - 17s 442ms/step - loss: 0.0013\n",
      "Epoch 97/100\n",
      "38/38 [==============================] - 17s 442ms/step - loss: 0.0015\n",
      "Epoch 98/100\n",
      "38/38 [==============================] - 17s 440ms/step - loss: 0.0015\n",
      "Epoch 99/100\n",
      "38/38 [==============================] - 17s 438ms/step - loss: 0.0014\n",
      "Epoch 100/100\n",
      "38/38 [==============================] - 17s 456ms/step - loss: 0.0014\n"
     ]
    },
    {
     "data": {
      "text/plain": [
       "<keras.callbacks.History at 0x141f4f3e070>"
      ]
     },
     "execution_count": 17,
     "metadata": {},
     "output_type": "execute_result"
    }
   ],
   "source": [
    "# Entrenamos el modelo\n",
    "\n",
    "regressor.fit(X_train, y_train, epochs = 100, batch_size = 32)"
   ]
  },
  {
   "cell_type": "code",
   "execution_count": 18,
   "id": "e3df5df5",
   "metadata": {},
   "outputs": [
    {
     "data": {
      "text/html": [
       "<div>\n",
       "<style scoped>\n",
       "    .dataframe tbody tr th:only-of-type {\n",
       "        vertical-align: middle;\n",
       "    }\n",
       "\n",
       "    .dataframe tbody tr th {\n",
       "        vertical-align: top;\n",
       "    }\n",
       "\n",
       "    .dataframe thead th {\n",
       "        text-align: right;\n",
       "    }\n",
       "</style>\n",
       "<table border=\"1\" class=\"dataframe\">\n",
       "  <thead>\n",
       "    <tr style=\"text-align: right;\">\n",
       "      <th></th>\n",
       "      <th>Open</th>\n",
       "      <th>High</th>\n",
       "      <th>Low</th>\n",
       "    </tr>\n",
       "  </thead>\n",
       "  <tbody>\n",
       "    <tr>\n",
       "      <th>0</th>\n",
       "      <td>778.81</td>\n",
       "      <td>789.63</td>\n",
       "      <td>775.80</td>\n",
       "    </tr>\n",
       "    <tr>\n",
       "      <th>1</th>\n",
       "      <td>788.36</td>\n",
       "      <td>791.34</td>\n",
       "      <td>783.16</td>\n",
       "    </tr>\n",
       "    <tr>\n",
       "      <th>2</th>\n",
       "      <td>786.08</td>\n",
       "      <td>794.48</td>\n",
       "      <td>785.02</td>\n",
       "    </tr>\n",
       "    <tr>\n",
       "      <th>3</th>\n",
       "      <td>795.26</td>\n",
       "      <td>807.90</td>\n",
       "      <td>792.20</td>\n",
       "    </tr>\n",
       "    <tr>\n",
       "      <th>4</th>\n",
       "      <td>806.40</td>\n",
       "      <td>809.97</td>\n",
       "      <td>802.83</td>\n",
       "    </tr>\n",
       "  </tbody>\n",
       "</table>\n",
       "</div>"
      ],
      "text/plain": [
       "     Open    High     Low\n",
       "0  778.81  789.63  775.80\n",
       "1  788.36  791.34  783.16\n",
       "2  786.08  794.48  785.02\n",
       "3  795.26  807.90  792.20\n",
       "4  806.40  809.97  802.83"
      ]
     },
     "execution_count": 18,
     "metadata": {},
     "output_type": "execute_result"
    }
   ],
   "source": [
    "# Cargamos conjunto de testeo\n",
    "\n",
    "dataset_test = pd.read_csv('../Google_Stock_Price_Test.csv')\n",
    "\n",
    "# Tomamos 2 variables regresoras\n",
    "dataset_test.iloc[:, 1:4].head()"
   ]
  },
  {
   "cell_type": "code",
   "execution_count": 19,
   "id": "e99d9628",
   "metadata": {},
   "outputs": [
    {
     "data": {
      "text/plain": [
       "array([[778.81, 789.63, 775.8 ],\n",
       "       [788.36, 791.34, 783.16],\n",
       "       [786.08, 794.48, 785.02],\n",
       "       [795.26, 807.9 , 792.2 ],\n",
       "       [806.4 , 809.97, 802.83],\n",
       "       [807.86, 809.13, 803.51],\n",
       "       [805.  , 808.15, 801.37],\n",
       "       [807.14, 807.39, 799.17],\n",
       "       [807.48, 811.22, 806.69],\n",
       "       [807.08, 807.14, 800.37],\n",
       "       [805.81, 806.21, 800.99],\n",
       "       [805.12, 809.48, 801.8 ],\n",
       "       [806.91, 806.91, 801.69],\n",
       "       [807.25, 820.87, 803.74],\n",
       "       [822.3 , 825.9 , 817.82],\n",
       "       [829.62, 835.77, 825.06],\n",
       "       [837.81, 838.  , 827.01],\n",
       "       [834.71, 841.95, 820.44],\n",
       "       [814.66, 815.84, 799.8 ],\n",
       "       [796.86, 801.25, 790.52]])"
      ]
     },
     "execution_count": 19,
     "metadata": {},
     "output_type": "execute_result"
    }
   ],
   "source": [
    "real_stock_price = dataset_test.iloc[:, 1:4].values\n",
    "real_stock_price"
   ]
  },
  {
   "cell_type": "code",
   "execution_count": 20,
   "id": "a9bf63c4",
   "metadata": {},
   "outputs": [],
   "source": [
    "# Conformamos un conjunto global con el train y test\n",
    "\n",
    "dataset_total = pd.concat((dataset_train[['Open','High','Low']], dataset_test[['Open','High','Low']]), axis = 0)"
   ]
  },
  {
   "cell_type": "code",
   "execution_count": 21,
   "id": "b08e79c0",
   "metadata": {},
   "outputs": [
    {
     "data": {
      "text/html": [
       "<div>\n",
       "<style scoped>\n",
       "    .dataframe tbody tr th:only-of-type {\n",
       "        vertical-align: middle;\n",
       "    }\n",
       "\n",
       "    .dataframe tbody tr th {\n",
       "        vertical-align: top;\n",
       "    }\n",
       "\n",
       "    .dataframe thead th {\n",
       "        text-align: right;\n",
       "    }\n",
       "</style>\n",
       "<table border=\"1\" class=\"dataframe\">\n",
       "  <thead>\n",
       "    <tr style=\"text-align: right;\">\n",
       "      <th></th>\n",
       "      <th>Open</th>\n",
       "      <th>High</th>\n",
       "      <th>Low</th>\n",
       "    </tr>\n",
       "  </thead>\n",
       "  <tbody>\n",
       "    <tr>\n",
       "      <th>0</th>\n",
       "      <td>325.25</td>\n",
       "      <td>332.83</td>\n",
       "      <td>324.97</td>\n",
       "    </tr>\n",
       "    <tr>\n",
       "      <th>1</th>\n",
       "      <td>331.27</td>\n",
       "      <td>333.87</td>\n",
       "      <td>329.08</td>\n",
       "    </tr>\n",
       "    <tr>\n",
       "      <th>2</th>\n",
       "      <td>329.83</td>\n",
       "      <td>330.75</td>\n",
       "      <td>326.89</td>\n",
       "    </tr>\n",
       "    <tr>\n",
       "      <th>3</th>\n",
       "      <td>328.34</td>\n",
       "      <td>328.77</td>\n",
       "      <td>323.68</td>\n",
       "    </tr>\n",
       "    <tr>\n",
       "      <th>4</th>\n",
       "      <td>322.04</td>\n",
       "      <td>322.29</td>\n",
       "      <td>309.46</td>\n",
       "    </tr>\n",
       "  </tbody>\n",
       "</table>\n",
       "</div>"
      ],
      "text/plain": [
       "     Open    High     Low\n",
       "0  325.25  332.83  324.97\n",
       "1  331.27  333.87  329.08\n",
       "2  329.83  330.75  326.89\n",
       "3  328.34  328.77  323.68\n",
       "4  322.04  322.29  309.46"
      ]
     },
     "execution_count": 21,
     "metadata": {},
     "output_type": "execute_result"
    }
   ],
   "source": [
    "# Visualizamos\n",
    "\n",
    "dataset_total.head()"
   ]
  },
  {
   "cell_type": "code",
   "execution_count": 22,
   "id": "18d56c23",
   "metadata": {},
   "outputs": [],
   "source": [
    "# Los inputs seran todos los datos de 60 dias anteriores al primer dia de test\n",
    "\n",
    "inputs = dataset_total[len(dataset_total) - len(dataset_test) - 60:].values"
   ]
  },
  {
   "cell_type": "code",
   "execution_count": 23,
   "id": "718cf1e8",
   "metadata": {},
   "outputs": [
    {
     "data": {
      "text/plain": [
       "array([[779.  , 780.48, 775.54],\n",
       "       [779.66, 779.66, 770.75],\n",
       "       [777.71, 789.38, 775.87],\n",
       "       [786.66, 792.28, 780.58],\n",
       "       [783.76, 788.13, 782.06],\n",
       "       [781.22, 781.22, 773.  ],\n",
       "       [781.65, 783.95, 776.  ],\n",
       "       [779.8 , 785.85, 777.5 ],\n",
       "       [787.85, 801.61, 785.57],\n",
       "       [798.24, 804.6 , 798.03],\n",
       "       [803.3 , 803.97, 796.03],\n",
       "       [795.  , 799.5 , 794.  ],\n",
       "       [804.9 , 815.18, 804.82],\n",
       "       [816.68, 816.68, 805.14],\n",
       "       [806.34, 806.98, 796.32],\n",
       "       [801.  , 803.49, 791.5 ],\n",
       "       [808.35, 815.49, 793.59],\n",
       "       [795.47, 796.86, 784.  ],\n",
       "       [782.89, 789.49, 775.54],\n",
       "       [778.2 , 781.65, 763.45],\n",
       "       [767.25, 769.95, 759.03],\n",
       "       [750.66, 770.36, 750.56],\n",
       "       [774.5 , 785.19, 772.55],\n",
       "       [783.4 , 795.63, 780.19],\n",
       "       [779.94, 791.23, 771.67],\n",
       "       [791.17, 791.17, 752.18],\n",
       "       [756.54, 760.78, 750.38],\n",
       "       [755.6 , 757.85, 727.54],\n",
       "       [746.97, 764.42, 746.97],\n",
       "       [755.2 , 766.36, 750.51],\n",
       "       [766.92, 772.7 , 764.23],\n",
       "       [771.37, 775.  , 760.  ],\n",
       "       [762.61, 769.7 , 760.6 ],\n",
       "       [772.63, 776.96, 767.  ],\n",
       "       [767.73, 768.28, 755.25],\n",
       "       [764.26, 765.  , 760.52],\n",
       "       [760.  , 779.53, 759.8 ],\n",
       "       [771.53, 778.5 , 768.24],\n",
       "       [770.07, 772.99, 754.83],\n",
       "       [757.44, 759.85, 737.03],\n",
       "       [744.59, 754.  , 743.1 ],\n",
       "       [757.71, 763.9 , 752.9 ],\n",
       "       [764.73, 768.83, 757.34],\n",
       "       [761.  , 771.36, 755.8 ],\n",
       "       [772.48, 778.18, 767.23],\n",
       "       [780.  , 789.43, 779.02],\n",
       "       [785.04, 791.25, 784.35],\n",
       "       [793.9 , 804.38, 793.34],\n",
       "       [797.4 , 804.  , 794.01],\n",
       "       [797.34, 803.  , 792.92],\n",
       "       [800.4 , 800.86, 790.29],\n",
       "       [790.22, 797.66, 786.27],\n",
       "       [796.76, 798.65, 793.27],\n",
       "       [795.84, 796.68, 787.1 ],\n",
       "       [792.36, 793.32, 788.58],\n",
       "       [790.9 , 792.74, 787.28],\n",
       "       [790.68, 797.86, 787.66],\n",
       "       [793.7 , 794.23, 783.2 ],\n",
       "       [783.33, 785.93, 778.92],\n",
       "       [782.75, 782.78, 770.41],\n",
       "       [778.81, 789.63, 775.8 ],\n",
       "       [788.36, 791.34, 783.16],\n",
       "       [786.08, 794.48, 785.02],\n",
       "       [795.26, 807.9 , 792.2 ],\n",
       "       [806.4 , 809.97, 802.83],\n",
       "       [807.86, 809.13, 803.51],\n",
       "       [805.  , 808.15, 801.37],\n",
       "       [807.14, 807.39, 799.17],\n",
       "       [807.48, 811.22, 806.69],\n",
       "       [807.08, 807.14, 800.37],\n",
       "       [805.81, 806.21, 800.99],\n",
       "       [805.12, 809.48, 801.8 ],\n",
       "       [806.91, 806.91, 801.69],\n",
       "       [807.25, 820.87, 803.74],\n",
       "       [822.3 , 825.9 , 817.82],\n",
       "       [829.62, 835.77, 825.06],\n",
       "       [837.81, 838.  , 827.01],\n",
       "       [834.71, 841.95, 820.44],\n",
       "       [814.66, 815.84, 799.8 ],\n",
       "       [796.86, 801.25, 790.52]])"
      ]
     },
     "execution_count": 23,
     "metadata": {},
     "output_type": "execute_result"
    }
   ],
   "source": [
    "inputs"
   ]
  },
  {
   "cell_type": "code",
   "execution_count": 24,
   "id": "cc89c929",
   "metadata": {},
   "outputs": [],
   "source": [
    "#inputs = inputs.reshape(-1,1)"
   ]
  },
  {
   "cell_type": "code",
   "execution_count": 25,
   "id": "c79d1d93",
   "metadata": {},
   "outputs": [],
   "source": [
    "inputs = sc.transform(inputs)"
   ]
  },
  {
   "cell_type": "code",
   "execution_count": 26,
   "id": "f534f270",
   "metadata": {},
   "outputs": [],
   "source": [
    "# Conformamos el conjunto de test con las mismas caracteristicas que hicimos el conjunto de entrenamiento\n",
    "\n",
    "X_test = []\n",
    "for i in range(60, 80):\n",
    "    X_test.append(inputs[i-60:i,0:3])\n",
    "    \n",
    "X_test = np.array(X_test)\n",
    "\n",
    "X_test = np.reshape(X_test, (X_test.shape[0], X_test.shape[1], 3)) # Redimensionamos\n",
    "\n",
    "predicted_stock_price = regressor.predict(X_test)\n"
   ]
  },
  {
   "cell_type": "code",
   "execution_count": 27,
   "id": "81a84a34",
   "metadata": {},
   "outputs": [],
   "source": [
    "predicted_stock_price=np.hstack((predicted_stock_price,np.ones([predicted_stock_price.shape[0],1], predicted_stock_price.dtype)))\n",
    "predicted_stock_price=np.hstack((predicted_stock_price,np.ones([predicted_stock_price.shape[0],1], predicted_stock_price.dtype)))"
   ]
  },
  {
   "cell_type": "code",
   "execution_count": 28,
   "id": "6969e6df",
   "metadata": {},
   "outputs": [
    {
     "data": {
      "text/plain": [
       "array([[0.92990446, 1.        , 1.        ],\n",
       "       [0.9272007 , 1.        , 1.        ],\n",
       "       [0.9305204 , 1.        , 1.        ],\n",
       "       [0.93518734, 1.        , 1.        ],\n",
       "       [0.94289756, 1.        , 1.        ],\n",
       "       [0.9520389 , 1.        , 1.        ],\n",
       "       [0.957461  , 1.        , 1.        ],\n",
       "       [0.95816326, 1.        , 1.        ],\n",
       "       [0.95715845, 1.        , 1.        ],\n",
       "       [0.9592751 , 1.        , 1.        ],\n",
       "       [0.96030414, 1.        , 1.        ],\n",
       "       [0.96052504, 1.        , 1.        ],\n",
       "       [0.9614271 , 1.        , 1.        ],\n",
       "       [0.96219337, 1.        , 1.        ],\n",
       "       [0.9659858 , 1.        , 1.        ],\n",
       "       [0.9751662 , 1.        , 1.        ],\n",
       "       [0.98636985, 1.        , 1.        ],\n",
       "       [0.99461555, 1.        , 1.        ],\n",
       "       [0.9970752 , 1.        , 1.        ],\n",
       "       [0.9852793 , 1.        , 1.        ]], dtype=float32)"
      ]
     },
     "execution_count": 28,
     "metadata": {},
     "output_type": "execute_result"
    }
   ],
   "source": [
    "predicted_stock_price"
   ]
  },
  {
   "cell_type": "code",
   "execution_count": 29,
   "id": "56d236e1",
   "metadata": {},
   "outputs": [],
   "source": [
    "# Aplicamos la transformacion inversa del escalador\n",
    "\n",
    "predicted_stock_price = sc.inverse_transform(predicted_stock_price)"
   ]
  },
  {
   "cell_type": "code",
   "execution_count": 30,
   "id": "03ce6286",
   "metadata": {},
   "outputs": [
    {
     "data": {
      "text/plain": [
       "array([[778.9994 , 816.68   , 805.13995],\n",
       "       [777.54596, 816.68   , 805.13995],\n",
       "       [779.3305 , 816.68   , 805.13995],\n",
       "       [781.8393 , 816.68   , 805.13995],\n",
       "       [785.984  , 816.68   , 805.13995],\n",
       "       [790.898  , 816.68   , 805.13995],\n",
       "       [793.8127 , 816.68   , 805.13995],\n",
       "       [794.19025, 816.68   , 805.13995],\n",
       "       [793.6501 , 816.68   , 805.13995],\n",
       "       [794.7879 , 816.68   , 805.13995],\n",
       "       [795.34106, 816.68   , 805.13995],\n",
       "       [795.45984, 816.68   , 805.13995],\n",
       "       [795.9447 , 816.68   , 805.13995],\n",
       "       [796.3566 , 816.68   , 805.13995],\n",
       "       [798.39526, 816.68   , 805.13995],\n",
       "       [803.3303 , 816.68   , 805.13995],\n",
       "       [809.35297, 816.68   , 805.13995],\n",
       "       [813.7855 , 816.68   , 805.13995],\n",
       "       [815.1077 , 816.68   , 805.13995],\n",
       "       [808.7667 , 816.68   , 805.13995]], dtype=float32)"
      ]
     },
     "execution_count": 30,
     "metadata": {},
     "output_type": "execute_result"
    }
   ],
   "source": [
    "predicted_stock_price"
   ]
  },
  {
   "cell_type": "code",
   "execution_count": 31,
   "id": "b53ad494",
   "metadata": {},
   "outputs": [
    {
     "data": {
      "image/png": "[encoded data removed]",
      "text/plain": [
       "<Figure size 432x288 with 1 Axes>"
      ]
     },
     "metadata": {
      "needs_background": "light"
     },
     "output_type": "display_data"
    }
   ],
   "source": [
    "plt.plot(real_stock_price[:,0], color = 'red', label = 'Real Google Stock Price')\n",
    "plt.plot(predicted_stock_price[:,0], color = 'blue', label = 'Predicted Google Stock Price')\n",
    "plt.title('Google Stock Price Prediction')\n",
    "plt.xlabel('Time')\n",
    "plt.ylabel('Google Stock Price')\n",
    "plt.legend()\n",
    "plt.show()"
   ]
  },
  {
   "cell_type": "code",
   "execution_count": null,
   "id": "a62fb213",
   "metadata": {},
   "outputs": [],
   "source": []
  },
  {
   "cell_type": "code",
   "execution_count": null,
   "id": "9cea9042",
   "metadata": {},
   "outputs": [],
   "source": []
  },
  {
   "cell_type": "code",
   "execution_count": null,
   "id": "4b2e5ef6",
   "metadata": {},
   "outputs": [],
   "source": []
  },
  {
   "cell_type": "code",
   "execution_count": null,
   "id": "8eb0ca1d",
   "metadata": {},
   "outputs": [],
   "source": []
  },
  {
   "cell_type": "code",
   "execution_count": null,
   "id": "76417eb6",
   "metadata": {},
   "outputs": [],
   "source": []
  },
  {
   "cell_type": "code",
   "execution_count": null,
   "id": "f308a17f",
   "metadata": {},
   "outputs": [],
   "source": []
  }
 ],
 "metadata": {
  "kernelspec": {
   "display_name": "Python 3",
   "language": "python",
   "name": "python3"
  },
  "language_info": {
   "codemirror_mode": {
    "name": "ipython",
    "version": 3
   },
   "file_extension": ".py",
   "mimetype": "text/x-python",
   "name": "python",
   "nbconvert_exporter": "python",
   "pygments_lexer": "ipython3",
   "version": "3.9.1"
  },
  "toc": {
   "base_numbering": 1,
   "nav_menu": {},
   "number_sections": true,
   "sideBar": true,
   "skip_h1_title": false,
   "title_cell": "Table of Contents",
   "title_sidebar": "Contents",
   "toc_cell": false,
   "toc_position": {},
   "toc_section_display": true,
   "toc_window_display": false
  },
  "varInspector": {
   "cols": {
    "lenName": 16,
    "lenType": 16,
    "lenVar": 40
   },
   "kernels_config": {
    "python": {
     "delete_cmd_postfix": "",
     "delete_cmd_prefix": "del ",
     "library": "var_list.py",
     "varRefreshCmd": "print(var_dic_list())"
    },
    "r": {
     "delete_cmd_postfix": ") ",
     "delete_cmd_prefix": "rm(",
     "library": "var_list.r",
     "varRefreshCmd": "cat(var_dic_list()) "
    }
   },
   "types_to_exclude": [
    "module",
    "function",
    "builtin_function_or_method",
    "instance",
    "_Feature"
   ],
   "window_display": false
  }
 },
 "nbformat": 4,
 "nbformat_minor": 5
}
